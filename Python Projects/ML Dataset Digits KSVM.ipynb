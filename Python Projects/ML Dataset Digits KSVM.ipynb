{
 "cells": [
  {
   "cell_type": "markdown",
   "metadata": {},
   "source": [
    "\n",
    "Esercizio finale\n",
    "\n",
    "Obiettivo: Creare un modello di Machine Learning per classificare le cifre da 0 a 9 utilizzando il\n",
    "dataset MNIST Digits.\n",
    "\n",
    "Punti dell'esercizio\n",
    "\n",
    "Importazione dei Dati\n",
    "Carica il dataset MNIST Digits utilizzando sklearn.datasets.\n",
    "Visualizza alcune cifre per comprendere i dati.\n",
    "Preprocessing dei Dati\n",
    "Normalizza i dati dividendo i valori dei pixel per il massimo valore possibile (16).\n",
    "Dividi il dataset in un training set e un test set usando train_test_split.\n",
    "Scelta del Modello\n",
    "Scegli un algoritmo di classificazione, come Support Vector Machine (SVM) o Random Forest.\n",
    "Configura il modello con parametri di base.\n",
    "Addestramento del Modello\n",
    "Addestra il modello sui dati di training.\n",
    "Verifica che il processo termini senza errori.\n",
    "Valutazione del Modello\n",
    "Utilizza il test set per valutare il modello.\n",
    "Calcola l'accuratezza e stampa un report di classificazione.\n",
    "Visualizzazione dei Risultati\n",
    "Mostra alcune immagini del test set con le loro predizioni e i valori reali.\n",
    "Identifica eventuali errori di classificazione.\n",
    "Esperimenti Extra (Facoltativo)\n",
    "Cambia il modello con un altro algoritmo (es. k-Nearest Neighbors o Decision Tree).\n",
    "Applica la cross-validation per migliorare la stabilità delle valutazioni.\n",
    "Genera una matrice di confusione per analizzare gli errori."
   ]
  },
  {
   "cell_type": "code",
   "execution_count": 1,
   "metadata": {},
   "outputs": [],
   "source": [
    "from sklearn.model_selection import train_test_split\n",
    "from sklearn.ensemble import GradientBoostingClassifier\n",
    "from sklearn.preprocessing import StandardScaler\n",
    "from sklearn.metrics import classification_report, confusion_matrix, accuracy_score\n",
    "import seaborn as sns\n",
    "import matplotlib.pyplot as plt\n",
    "import pandas as pd\n",
    "from sklearn.model_selection import RandomizedSearchCV, StratifiedKFold\n",
    "from sklearn.decomposition import PCA"
   ]
  },
  {
   "cell_type": "code",
   "execution_count": 2,
   "metadata": {},
   "outputs": [
    {
     "name": "stdout",
     "output_type": "stream",
     "text": [
      "(1797, 64)\n"
     ]
    }
   ],
   "source": [
    "## Importazione dei Dati\n",
    "## Carica il dataset MNIST Digits utilizzando sklearn.datasets.\n",
    "## Visualizza alcune cifre per comprendere i dati.\n",
    "\n",
    "from sklearn.datasets import load_digits\n",
    "\n",
    "digits = load_digits()\n",
    "X = digits.data  # caratteristiche\n",
    "y = digits.target  # target\n",
    "\n",
    "print(digits.data.shape)\n",
    "digits_data = digits.data"
   ]
  },
  {
   "cell_type": "code",
   "execution_count": 3,
   "metadata": {},
   "outputs": [
    {
     "name": "stdout",
     "output_type": "stream",
     "text": [
      "<bound method NDFrame.head of       pixel_0_0  pixel_0_1  pixel_0_2  pixel_0_3  pixel_0_4  pixel_0_5  \\\n",
      "0           0.0        0.0        5.0       13.0        9.0        1.0   \n",
      "1           0.0        0.0        0.0       12.0       13.0        5.0   \n",
      "2           0.0        0.0        0.0        4.0       15.0       12.0   \n",
      "3           0.0        0.0        7.0       15.0       13.0        1.0   \n",
      "4           0.0        0.0        0.0        1.0       11.0        0.0   \n",
      "...         ...        ...        ...        ...        ...        ...   \n",
      "1792        0.0        0.0        4.0       10.0       13.0        6.0   \n",
      "1793        0.0        0.0        6.0       16.0       13.0       11.0   \n",
      "1794        0.0        0.0        1.0       11.0       15.0        1.0   \n",
      "1795        0.0        0.0        2.0       10.0        7.0        0.0   \n",
      "1796        0.0        0.0       10.0       14.0        8.0        1.0   \n",
      "\n",
      "      pixel_0_6  pixel_0_7  pixel_1_0  pixel_1_1  ...  pixel_6_6  pixel_6_7  \\\n",
      "0           0.0        0.0        0.0        0.0  ...        0.0        0.0   \n",
      "1           0.0        0.0        0.0        0.0  ...        0.0        0.0   \n",
      "2           0.0        0.0        0.0        0.0  ...        5.0        0.0   \n",
      "3           0.0        0.0        0.0        8.0  ...        9.0        0.0   \n",
      "4           0.0        0.0        0.0        0.0  ...        0.0        0.0   \n",
      "...         ...        ...        ...        ...  ...        ...        ...   \n",
      "1792        0.0        0.0        0.0        1.0  ...        4.0        0.0   \n",
      "1793        1.0        0.0        0.0        0.0  ...        1.0        0.0   \n",
      "1794        0.0        0.0        0.0        0.0  ...        0.0        0.0   \n",
      "1795        0.0        0.0        0.0        0.0  ...        2.0        0.0   \n",
      "1796        0.0        0.0        0.0        2.0  ...        8.0        0.0   \n",
      "\n",
      "      pixel_7_0  pixel_7_1  pixel_7_2  pixel_7_3  pixel_7_4  pixel_7_5  \\\n",
      "0           0.0        0.0        6.0       13.0       10.0        0.0   \n",
      "1           0.0        0.0        0.0       11.0       16.0       10.0   \n",
      "2           0.0        0.0        0.0        3.0       11.0       16.0   \n",
      "3           0.0        0.0        7.0       13.0       13.0        9.0   \n",
      "4           0.0        0.0        0.0        2.0       16.0        4.0   \n",
      "...         ...        ...        ...        ...        ...        ...   \n",
      "1792        0.0        0.0        2.0       14.0       15.0        9.0   \n",
      "1793        0.0        0.0        6.0       16.0       14.0        6.0   \n",
      "1794        0.0        0.0        2.0        9.0       13.0        6.0   \n",
      "1795        0.0        0.0        5.0       12.0       16.0       12.0   \n",
      "1796        0.0        1.0        8.0       12.0       14.0       12.0   \n",
      "\n",
      "      pixel_7_6  pixel_7_7  \n",
      "0           0.0        0.0  \n",
      "1           0.0        0.0  \n",
      "2           9.0        0.0  \n",
      "3           0.0        0.0  \n",
      "4           0.0        0.0  \n",
      "...         ...        ...  \n",
      "1792        0.0        0.0  \n",
      "1793        0.0        0.0  \n",
      "1794        0.0        0.0  \n",
      "1795        0.0        0.0  \n",
      "1796        1.0        0.0  \n",
      "\n",
      "[1797 rows x 64 columns]>\n"
     ]
    }
   ],
   "source": [
    "digits_df = pd.DataFrame(data = digits.data, columns = digits.feature_names)\n",
    "print(digits_df.head)\n",
    "\n",
    "## Comprendo che abbiamo un totale di 1794 entries composte da 64 pixel ciascuna"
   ]
  },
  {
   "cell_type": "code",
   "execution_count": 4,
   "metadata": {},
   "outputs": [
    {
     "data": {
      "image/png": "[encoded data removed]",
      "text/plain": [
       "<Figure size 200x200 with 1 Axes>"
      ]
     },
     "metadata": {},
     "output_type": "display_data"
    }
   ],
   "source": [
    "## Estraggo il dataframe composto da immagini di 64x64 pixels\n",
    "\n",
    "import matplotlib.pyplot as plt\n",
    "\n",
    "plt.figure(figsize = (2, 2) )\n",
    "plt.imshow(digits.images[0])\n",
    "plt.show()"
   ]
  },
  {
   "cell_type": "code",
   "execution_count": 5,
   "metadata": {},
   "outputs": [
    {
     "data": {
      "text/plain": [
       "<Figure size 500x500 with 0 Axes>"
      ]
     },
     "metadata": {},
     "output_type": "display_data"
    },
    {
     "data": {
      "image/png": "[encoded data removed]",
      "text/plain": [
       "<Figure size 200x200 with 1 Axes>"
      ]
     },
     "metadata": {},
     "output_type": "display_data"
    },
    {
     "data": {
      "image/png": "[encoded data removed]",
      "text/plain": [
       "<Figure size 200x200 with 1 Axes>"
      ]
     },
     "metadata": {},
     "output_type": "display_data"
    },
    {
     "data": {
      "image/png": "[encoded data removed]",
      "text/plain": [
       "<Figure size 200x200 with 1 Axes>"
      ]
     },
     "metadata": {},
     "output_type": "display_data"
    },
    {
     "data": {
      "image/png": "[encoded data removed]",
      "text/plain": [
       "<Figure size 200x200 with 1 Axes>"
      ]
     },
     "metadata": {},
     "output_type": "display_data"
    },
    {
     "data": {
      "image/png": "[encoded data removed]",
      "text/plain": [
       "<Figure size 200x200 with 1 Axes>"
      ]
     },
     "metadata": {},
     "output_type": "display_data"
    },
    {
     "data": {
      "image/png": "[encoded data removed]",
      "text/plain": [
       "<Figure size 200x200 with 1 Axes>"
      ]
     },
     "metadata": {},
     "output_type": "display_data"
    },
    {
     "data": {
      "image/png": "[encoded data removed]",
      "text/plain": [
       "<Figure size 200x200 with 1 Axes>"
      ]
     },
     "metadata": {},
     "output_type": "display_data"
    },
    {
     "data": {
      "image/png": "[encoded data removed]",
      "text/plain": [
       "<Figure size 200x200 with 1 Axes>"
      ]
     },
     "metadata": {},
     "output_type": "display_data"
    },
    {
     "data": {
      "image/png": "[encoded data removed]",
      "text/plain": [
       "<Figure size 200x200 with 1 Axes>"
      ]
     },
     "metadata": {},
     "output_type": "display_data"
    },
    {
     "data": {
      "image/png": "[encoded data removed]",
      "text/plain": [
       "<Figure size 200x200 with 1 Axes>"
      ]
     },
     "metadata": {},
     "output_type": "display_data"
    }
   ],
   "source": [
    "## Le 10 cifre arabe che vanno da 0 a 9 sono le seguenti:\n",
    "\n",
    "\n",
    "plt.figure(figsize = (5, 5) )\n",
    "\n",
    "for i in range(0, 10):\n",
    "\n",
    "    plt.figure(figsize = (2, 2) )\n",
    "    plt.imshow(digits.images[i])\n",
    "    plt.show()"
   ]
  },
  {
   "cell_type": "code",
   "execution_count": 6,
   "metadata": {},
   "outputs": [],
   "source": [
    "## Preprocessing dei Dati: Normalizza i dati dividendo i valori dei pixel per il massimo valore possibile (16).\n",
    "\n",
    "scaler = StandardScaler()\n",
    "X_scaled = scaler.fit_transform(X, 16)"
   ]
  },
  {
   "cell_type": "code",
   "execution_count": 7,
   "metadata": {},
   "outputs": [],
   "source": [
    "## Suddividi il dataset in set di training e test.\n",
    "# Dividi i dati in 80% training e 20% test\n",
    "X_train, X_test, y_train, y_test = train_test_split(X, y, test_size=0.2, random_state=42)"
   ]
  },
  {
   "cell_type": "code",
   "execution_count": 8,
   "metadata": {},
   "outputs": [],
   "source": [
    "## Applica PCA per ridurre i dati da 64 dimensioni (8x8 pixel) a 2 dimensioni.\n",
    "\n",
    "from sklearn.decomposition import PCA\n",
    "pca = PCA(n_components=2)\n",
    "pca.fit(X)\n",
    "X = pca.transform(X_scaled)\n"
   ]
  },
  {
   "cell_type": "code",
   "execution_count": 9,
   "metadata": {},
   "outputs": [
    {
     "data": {
      "image/png": "[encoded data removed]",
      "text/plain": [
       "<Figure size 200x200 with 1 Axes>"
      ]
     },
     "metadata": {},
     "output_type": "display_data"
    },
    {
     "data": {
      "image/png": "[encoded data removed]",
      "text/plain": [
       "<Figure size 200x200 with 1 Axes>"
      ]
     },
     "metadata": {},
     "output_type": "display_data"
    },
    {
     "data": {
      "image/png": "[encoded data removed]",
      "text/plain": [
       "<Figure size 200x200 with 1 Axes>"
      ]
     },
     "metadata": {},
     "output_type": "display_data"
    },
    {
     "data": {
      "image/png": "[encoded data removed]",
      "text/plain": [
       "<Figure size 200x200 with 1 Axes>"
      ]
     },
     "metadata": {},
     "output_type": "display_data"
    },
    {
     "data": {
      "image/png": "[encoded data removed]",
      "text/plain": [
       "<Figure size 200x200 with 1 Axes>"
      ]
     },
     "metadata": {},
     "output_type": "display_data"
    },
    {
     "data": {
      "image/png": "[encoded data removed]",
      "text/plain": [
       "<Figure size 200x200 with 1 Axes>"
      ]
     },
     "metadata": {},
     "output_type": "display_data"
    },
    {
     "data": {
      "image/png": "[encoded data removed]",
      "text/plain": [
       "<Figure size 200x200 with 1 Axes>"
      ]
     },
     "metadata": {},
     "output_type": "display_data"
    },
    {
     "data": {
      "image/png": "[encoded data removed]",
      "text/plain": [
       "<Figure size 200x200 with 1 Axes>"
      ]
     },
     "metadata": {},
     "output_type": "display_data"
    },
    {
     "data": {
      "image/png": "[encoded data removed]",
      "text/plain": [
       "<Figure size 200x200 with 1 Axes>"
      ]
     },
     "metadata": {},
     "output_type": "display_data"
    },
    {
     "data": {
      "image/png": "[encoded data removed]",
      "text/plain": [
       "<Figure size 200x200 with 1 Axes>"
      ]
     },
     "metadata": {},
     "output_type": "display_data"
    }
   ],
   "source": [
    "## Visualizza i dati nel nuovo spazio bidimensionale, colorando i punti in base alla cifra rappresentata.\n",
    "for i in range(0, 10):\n",
    "\n",
    "    plt.figure(figsize = (2, 2) )\n",
    "    plt.imshow(digits.images[i])\n",
    "    plt.show()"
   ]
  },
  {
   "cell_type": "code",
   "execution_count": 10,
   "metadata": {},
   "outputs": [
    {
     "data": {
      "text/html": [
       "<style>#sk-container-id-1 {color: black;}#sk-container-id-1 pre{padding: 0;}#sk-container-id-1 div.sk-toggleable {background-color: white;}#sk-container-id-1 label.sk-toggleable__label {cursor: pointer;display: block;width: 100%;margin-bottom: 0;padding: 0.3em;box-sizing: border-box;text-align: center;}#sk-container-id-1 label.sk-toggleable__label-arrow:before {content: \"▸\";float: left;margin-right: 0.25em;color: #696969;}#sk-container-id-1 label.sk-toggleable__label-arrow:hover:before {color: black;}#sk-container-id-1 div.sk-estimator:hover label.sk-toggleable__label-arrow:before {color: black;}#sk-container-id-1 div.sk-toggleable__content {max-height: 0;max-width: 0;overflow: hidden;text-align: left;background-color: #f0f8ff;}#sk-container-id-1 div.sk-toggleable__content pre {margin: 0.2em;color: black;border-radius: 0.25em;background-color: #f0f8ff;}#sk-container-id-1 input.sk-toggleable__control:checked~div.sk-toggleable__content {max-height: 200px;max-width: 100%;overflow: auto;}#sk-container-id-1 input.sk-toggleable__control:checked~label.sk-toggleable__label-arrow:before {content: \"▾\";}#sk-container-id-1 div.sk-estimator input.sk-toggleable__control:checked~label.sk-toggleable__label {background-color: #d4ebff;}#sk-container-id-1 div.sk-label input.sk-toggleable__control:checked~label.sk-toggleable__label {background-color: #d4ebff;}#sk-container-id-1 input.sk-hidden--visually {border: 0;clip: rect(1px 1px 1px 1px);clip: rect(1px, 1px, 1px, 1px);height: 1px;margin: -1px;overflow: hidden;padding: 0;position: absolute;width: 1px;}#sk-container-id-1 div.sk-estimator {font-family: monospace;background-color: #f0f8ff;border: 1px dotted black;border-radius: 0.25em;box-sizing: border-box;margin-bottom: 0.5em;}#sk-container-id-1 div.sk-estimator:hover {background-color: #d4ebff;}#sk-container-id-1 div.sk-parallel-item::after {content: \"\";width: 100%;border-bottom: 1px solid gray;flex-grow: 1;}#sk-container-id-1 div.sk-label:hover label.sk-toggleable__label {background-color: #d4ebff;}#sk-container-id-1 div.sk-serial::before {content: \"\";position: absolute;border-left: 1px solid gray;box-sizing: border-box;top: 0;bottom: 0;left: 50%;z-index: 0;}#sk-container-id-1 div.sk-serial {display: flex;flex-direction: column;align-items: center;background-color: white;padding-right: 0.2em;padding-left: 0.2em;position: relative;}#sk-container-id-1 div.sk-item {position: relative;z-index: 1;}#sk-container-id-1 div.sk-parallel {display: flex;align-items: stretch;justify-content: center;background-color: white;position: relative;}#sk-container-id-1 div.sk-item::before, #sk-container-id-1 div.sk-parallel-item::before {content: \"\";position: absolute;border-left: 1px solid gray;box-sizing: border-box;top: 0;bottom: 0;left: 50%;z-index: -1;}#sk-container-id-1 div.sk-parallel-item {display: flex;flex-direction: column;z-index: 1;position: relative;background-color: white;}#sk-container-id-1 div.sk-parallel-item:first-child::after {align-self: flex-end;width: 50%;}#sk-container-id-1 div.sk-parallel-item:last-child::after {align-self: flex-start;width: 50%;}#sk-container-id-1 div.sk-parallel-item:only-child::after {width: 0;}#sk-container-id-1 div.sk-dashed-wrapped {border: 1px dashed gray;margin: 0 0.4em 0.5em 0.4em;box-sizing: border-box;padding-bottom: 0.4em;background-color: white;}#sk-container-id-1 div.sk-label label {font-family: monospace;font-weight: bold;display: inline-block;line-height: 1.2em;}#sk-container-id-1 div.sk-label-container {text-align: center;}#sk-container-id-1 div.sk-container {/* jupyter's `normalize.less` sets `[hidden] { display: none; }` but bootstrap.min.css set `[hidden] { display: none !important; }` so we also need the `!important` here to be able to override the default hidden behavior on the sphinx rendered scikit-learn.org. See: https://github.com/scikit-learn/scikit-learn/issues/21755 */display: inline-block !important;position: relative;}#sk-container-id-1 div.sk-text-repr-fallback {display: none;}</style><div id=\"sk-container-id-1\" class=\"sk-top-container\"><div class=\"sk-text-repr-fallback\"><pre>SVC(kernel=&#x27;linear&#x27;)</pre><b>In a Jupyter environment, please rerun this cell to show the HTML representation or trust the notebook. <br />On GitHub, the HTML representation is unable to render, please try loading this page with nbviewer.org.</b></div><div class=\"sk-container\" hidden><div class=\"sk-item\"><div class=\"sk-estimator sk-toggleable\"><input class=\"sk-toggleable__control sk-hidden--visually\" id=\"sk-estimator-id-1\" type=\"checkbox\" checked><label for=\"sk-estimator-id-1\" class=\"sk-toggleable__label sk-toggleable__label-arrow\">SVC</label><div class=\"sk-toggleable__content\"><pre>SVC(kernel=&#x27;linear&#x27;)</pre></div></div></div></div></div>"
      ],
      "text/plain": [
       "SVC(kernel='linear')"
      ]
     },
     "execution_count": 10,
     "metadata": {},
     "output_type": "execute_result"
    }
   ],
   "source": [
    "## Scelta del Modello\n",
    "## Scegli un algoritmo di classificazione, come Support Vector Machine (SVM) o Random Forest.\n",
    "## Configura il modello con parametri di base.\n",
    "\n",
    "## rubato da https://www.geeksforgeeks.org/implementing-svm-and-kernel-svm-with-pythons-scikit-learn/\n",
    "\n",
    "from sklearn import svm\n",
    "\n",
    "svm_model = svm.SVC(kernel = \"linear\")\n",
    "svm_model.fit(X, y)"
   ]
  },
  {
   "cell_type": "code",
   "execution_count": 11,
   "metadata": {},
   "outputs": [],
   "source": [
    "## Addestramento del Modello:\n",
    "## Addestra il modello sui dati di training.\n",
    "## Verifica che il processo termini senza errori.\n",
    "\n",
    "# Predict using the SVM model\n",
    "predictions = svm_model.predict(X)"
   ]
  },
  {
   "cell_type": "code",
   "execution_count": 12,
   "metadata": {},
   "outputs": [
    {
     "name": "stdout",
     "output_type": "stream",
     "text": [
      "Accuracy of standard SVM: 0.6282693377851976\n"
     ]
    }
   ],
   "source": [
    "## Valutazione del Modello\n",
    "## Utilizza il test set per valutare il modello.\n",
    "## Calcola l'accuratezza e stampa un report di classificazione.\n",
    "\n",
    "# Evaluate the predictions\n",
    "accuracy = svm_model.score(X, y)\n",
    "print(\"Accuracy of standard SVM:\", accuracy)"
   ]
  },
  {
   "cell_type": "code",
   "execution_count": 13,
   "metadata": {},
   "outputs": [
    {
     "name": "stdout",
     "output_type": "stream",
     "text": [
      "Accuracy of standard rfb: 0.07777777777777778\n"
     ]
    }
   ],
   "source": [
    "# Create a kernel support vector machine model\n",
    "ksvm = svm.SVC(kernel = \"rbf\",\n",
    "               gamma = 0.1,\n",
    "               C = 10.0)\n",
    " \n",
    "# Train the model on the training data\n",
    "ksvm.fit(X_train, y_train)\n",
    " \n",
    "# Evaluate the model on the test data\n",
    "accuracy = ksvm.score(X_test, y_test)\n",
    "print('Accuracy of standard rfb:', accuracy)"
   ]
  },
  {
   "cell_type": "markdown",
   "metadata": {},
   "source": [
    "Molto strano che con un modello rbf e parametri gamma 0.1 e C = 10 l'accuratezza scenda vertiginosamente"
   ]
  },
  {
   "cell_type": "code",
   "execution_count": 14,
   "metadata": {},
   "outputs": [
    {
     "name": "stdout",
     "output_type": "stream",
     "text": [
      "Accuracy del kernel: linear 0.07777777777777778\n",
      "Accuracy del kernel: poly 0.07777777777777778\n",
      "Accuracy del kernel: rbf 0.07777777777777778\n",
      "Accuracy del kernel: sigmoid 0.07777777777777778\n",
      "Accuracy del kernel: precomputed 0.07777777777777778\n"
     ]
    }
   ],
   "source": [
    "## testo tutte le varianti di kernels:\n",
    "## ‘linear’, ‘poly’, ‘rbf’, ‘sigmoid’, ‘precomputed\n",
    "\n",
    "kernels = [\"linear\", \"poly\", \"rbf\", \"sigmoid\", \"precomputed\"]\n",
    "\n",
    "for kernel in kernels:\n",
    "    # Create a kernel support vector machine model\n",
    "    ksvm = svm.SVC(kernel = \"rbf\",\n",
    "                   gamma = 0.1,\n",
    "                   C = 10.0)\n",
    " \n",
    "# Train the model on the training data\n",
    "    ksvm.fit(X_train, y_train)\n",
    " \n",
    "# Evaluate the model on the test data\n",
    "    accuracy = ksvm.score(X_test, y_test)\n",
    "    print('Accuracy del kernel:', kernel, accuracy)"
   ]
  },
  {
   "cell_type": "markdown",
   "metadata": {},
   "source": [
    "il problema sembra essere più legato ai valori probabilmente"
   ]
  },
  {
   "cell_type": "code",
   "execution_count": 15,
   "metadata": {},
   "outputs": [
    {
     "name": "stdout",
     "output_type": "stream",
     "text": [
      "Accuracy del kernel: linear 0.07777777777777778\n",
      "Accuracy del kernel: poly 0.07777777777777778\n",
      "Accuracy del kernel: rbf 0.07777777777777778\n",
      "Accuracy del kernel: sigmoid 0.07777777777777778\n",
      "Accuracy del kernel: precomputed 0.07777777777777778\n"
     ]
    }
   ],
   "source": [
    "## testo tutte le varianti di kernels:\n",
    "## ‘linear’, ‘poly’, ‘rbf’, ‘sigmoid’, ‘precomputed\n",
    "\n",
    "kernels = [\"linear\", \"poly\", \"rbf\", \"sigmoid\", \"precomputed\"]\n",
    "\n",
    "for kernel in kernels:\n",
    "    # Create a kernel support vector machine model\n",
    "    ksvm = svm.SVC(kernel = \"rbf\",\n",
    "                   gamma = 0.5,\n",
    "                   C = 50.0)\n",
    " \n",
    "# Train the model on the training data\n",
    "    ksvm.fit(X_train, y_train)\n",
    " \n",
    "# Evaluate the model on the test data\n",
    "    accuracy = ksvm.score(X_test, y_test)\n",
    "    print('Accuracy del kernel:', kernel, accuracy)"
   ]
  },
  {
   "cell_type": "code",
   "execution_count": 16,
   "metadata": {},
   "outputs": [
    {
     "name": "stdout",
     "output_type": "stream",
     "text": [
      "Accuracy del kernel: linear 0.8138888888888889\n",
      "Accuracy del kernel: poly 0.8138888888888889\n",
      "Accuracy del kernel: rbf 0.8138888888888889\n",
      "Accuracy del kernel: sigmoid 0.8138888888888889\n",
      "Accuracy del kernel: precomputed 0.8138888888888889\n"
     ]
    }
   ],
   "source": [
    "## testo tutte le varianti di kernels:\n",
    "## ‘linear’, ‘poly’, ‘rbf’, ‘sigmoid’, ‘precomputed\n",
    "\n",
    "kernels = [\"linear\", \"poly\", \"rbf\", \"sigmoid\", \"precomputed\"]\n",
    "\n",
    "for kernel in kernels:\n",
    "    # Create a kernel support vector machine model\n",
    "    ksvm = svm.SVC(kernel = \"rbf\",\n",
    "                   gamma = 0.01,\n",
    "                   C = 5.0)\n",
    " \n",
    "# Train the model on the training data\n",
    "    ksvm.fit(X_train, y_train)\n",
    " \n",
    "# Evaluate the model on the test data\n",
    "    accuracy = ksvm.score(X_test, y_test)\n",
    "    print('Accuracy del kernel:', kernel, accuracy)"
   ]
  },
  {
   "cell_type": "markdown",
   "metadata": {},
   "source": [
    "Accuracy of standard SVM: 0.6288258208124652\n",
    "Accuracy of standard rfb: 0.07777777777777778\n",
    "\n",
    "noto che paramentri più bassi portano a migliori performance, con 0.81"
   ]
  },
  {
   "cell_type": "code",
   "execution_count": 17,
   "metadata": {},
   "outputs": [
    {
     "name": "stdout",
     "output_type": "stream",
     "text": [
      "Accuracy del kernel: linear 0.9583333333333334\n",
      "Accuracy del kernel: poly 0.9583333333333334\n",
      "Accuracy del kernel: rbf 0.9583333333333334\n",
      "Accuracy del kernel: sigmoid 0.9583333333333334\n",
      "Accuracy del kernel: precomputed 0.9583333333333334\n"
     ]
    }
   ],
   "source": [
    "## testo tutte le varianti di kernels:\n",
    "## ‘linear’, ‘poly’, ‘rbf’, ‘sigmoid’, ‘precomputed\n",
    "\n",
    "kernels = [\"linear\", \"poly\", \"rbf\", \"sigmoid\", \"precomputed\"]\n",
    "\n",
    "for kernel in kernels:\n",
    "    # Create a kernel support vector machine model\n",
    "    ksvm = svm.SVC(kernel = \"rbf\",\n",
    "                   gamma = 0.005,\n",
    "                   C = 1.0)\n",
    " \n",
    "# Train the model on the training data\n",
    "    ksvm.fit(X_train, y_train)\n",
    " \n",
    "# Evaluate the model on the test data\n",
    "    accuracy = ksvm.score(X_test, y_test)\n",
    "    print('Accuracy del kernel:', kernel, accuracy)"
   ]
  },
  {
   "cell_type": "code",
   "execution_count": 18,
   "metadata": {},
   "outputs": [
    {
     "name": "stdout",
     "output_type": "stream",
     "text": [
      "Accuracy del kernel: linear 0.9861111111111112\n",
      "Accuracy del kernel: poly 0.9861111111111112\n",
      "Accuracy del kernel: rbf 0.9861111111111112\n",
      "Accuracy del kernel: sigmoid 0.9861111111111112\n",
      "Accuracy del kernel: precomputed 0.9861111111111112\n"
     ]
    }
   ],
   "source": [
    "## testo tutte le varianti di kernels:\n",
    "## ‘linear’, ‘poly’, ‘rbf’, ‘sigmoid’, ‘precomputed\n",
    "\n",
    "kernels = [\"linear\", \"poly\", \"rbf\", \"sigmoid\", \"precomputed\"]\n",
    "\n",
    "for kernel in kernels:\n",
    "    # Create a kernel support vector machine model\n",
    "    ksvm = svm.SVC(kernel = \"rbf\",\n",
    "                   gamma = 0.0005,\n",
    "                   C = 0.5)\n",
    " \n",
    "# Train the model on the training data\n",
    "    ksvm.fit(X_train, y_train)\n",
    " \n",
    "# Evaluate the model on the test data\n",
    "    accuracy = ksvm.score(X_test, y_test)\n",
    "    print('Accuracy del kernel:', kernel, accuracy)"
   ]
  },
  {
   "cell_type": "markdown",
   "metadata": {},
   "source": [
    "Ci sono guadagni sempre maggiori all'introduzione di valori sempre più piccoli, risulta ininfluente la scelta del kernel"
   ]
  },
  {
   "cell_type": "markdown",
   "metadata": {},
   "source": [
    "Visualizzazione dei Risultati\n",
    "Mostra alcune immagini del test set con le loro predizioni e i valori reali.\n",
    "Identifica eventuali errori di classificazione."
   ]
  },
  {
   "cell_type": "markdown",
   "metadata": {},
   "source": [
    "Esperimenti Extra (Facoltativo)\n",
    "Cambia il modello con un altro algoritmo (es. k-Nearest Neighbors o Decision Tree).\n",
    "Applica la cross-validation per migliorare la stabilità delle valutazioni.\n",
    "Genera una matrice di confusione per analizzare gli errori."
   ]
  }
 ],
 "metadata": {
  "kernelspec": {
   "display_name": "Python 3",
   "language": "python",
   "name": "python3"
  },
  "language_info": {
   "codemirror_mode": {
    "name": "ipython",
    "version": 3
   },
   "file_extension": ".py",
   "mimetype": "text/x-python",
   "name": "python",
   "nbconvert_exporter": "python",
   "pygments_lexer": "ipython3",
   "version": "3.8.10"
  }
 },
 "nbformat": 4,
 "nbformat_minor": 2
}
